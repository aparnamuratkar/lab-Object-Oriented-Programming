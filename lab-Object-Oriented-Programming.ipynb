{
 "cells": [
  {
   "cell_type": "markdown",
   "id": "b6c22e0a",
   "metadata": {},
   "source": [
    "\n",
    "\n",
    "\n",
    "# Lab | Object Oriented Programming\n",
    "\n",
    "## Introduction\n",
    "\n",
    "In this lab you have to implement a Python class for a TV.\n",
    "\n",
    "## Constructor\n",
    "\n",
    "Crete a Python Tv class with a constructor and the following attributes:\n",
    "\n",
    "* .on (Boolean)\n",
    "* .volume (float in [0,100])\n",
    "* .active_channel (int in [1,10])\n",
    "* .input (str in [\"Anthena\", \"HDMI1\", \"HDMI2\", \"HDMI3\"])\n",
    "* .size (float in [42, 50, 55, 65, 75])\n",
    "\n",
    "## Methods\n",
    "\n",
    "* .switch_on()\n",
    "* .switch_off()\n",
    "* .set_volume(volume: int)\n",
    "* .change_channel(channel: int)\n",
    "* .set_input(value: str)\n",
    "\n",
    "## Submission\n",
    "\n",
    "Upon completion, add your jupyter notebook to git. Then commit git and push your branch to the remote.\n",
    "\n",
    "## Resources\n",
    "\n",
    "[Classes in Python Tutorials](https://www.youtube.com/playlist?list=PL-osiE80TeTsqhIuOqKhwlXsIBIdSeYtc)\n"
   ]
  },
  {
   "cell_type": "code",
   "execution_count": 17,
   "id": "178f3c51",
   "metadata": {},
   "outputs": [],
   "source": [
    "class Python_Tv():         \n",
    "    \n",
    "    def __init__(self):\n",
    "        self.on = False\n",
    "        self.volume = 10\n",
    "        self.active_channel = 1\n",
    "        self.input = 'HDMI1'\n",
    "        self.size=42\n",
    "        \n",
    "    def switch_on(self):\n",
    "        self.on = True\n",
    "        \n",
    "    def switch_off(self):\n",
    "        self.on = False\n",
    "        \n",
    "    def set_volume(self):#, volume:int):\n",
    "        val = int(input(\"Increase or decrease volume from 1 to 100 : \"))\n",
    "        if val > 1 or val < 100:\n",
    "            self.set_volume = val\n",
    "            \n",
    "            print(\"The volume is \", self.set_volume)\n",
    "        else:\n",
    "            print(\"Volume not in range!\")\n",
    "            \n",
    "    def change_channel(self):\n",
    "        channel1 = int(input(\"Enter Channel number between 1 and 10: \"))\n",
    "        \n",
    "        if channel1 >= 1 or channel1 <= 10:\n",
    "            #self.channel = channel1\n",
    "            print(\"Channel playing is \",self.channel)\n",
    "        else:\n",
    "            print(\"not a valid channel!\")\n",
    "            \n",
    "    def set_input(self):#, value='HDMI1'):\n",
    "        \n",
    "        input1 = str(input(\"choose TV setting from (Antenna, HDMI1, HDMI2, HDMI3): \"))\n",
    "        self.input = input1\n",
    "        print(\"The setting is now:\",self.input)\n",
    "        \n",
    "    def set_size(self, value='42'):\n",
    "        new_size = int(input(\"Choose size(42,50,55,65,75): \"))\n",
    "        if new_size in [42, 50, 55, 65, 75]:\n",
    "            self.size = new_size\n",
    "            print(\"Tv size is:\",self.size)\n",
    "        else:\n",
    "            print(\"Size not available\")       \n",
    "\n",
    "        \n",
    "        \n",
    "       "
   ]
  },
  {
   "cell_type": "code",
   "execution_count": 2,
   "id": "b9161f7e",
   "metadata": {},
   "outputs": [],
   "source": [
    "tv=Python_Tv()"
   ]
  },
  {
   "cell_type": "code",
   "execution_count": 25,
   "id": "40aaa3bb",
   "metadata": {},
   "outputs": [
    {
     "data": {
      "text/plain": [
       "True"
      ]
     },
     "execution_count": 25,
     "metadata": {},
     "output_type": "execute_result"
    }
   ],
   "source": [
    "tv.on"
   ]
  },
  {
   "cell_type": "code",
   "execution_count": 19,
   "id": "b14ba33e",
   "metadata": {},
   "outputs": [
    {
     "name": "stdout",
     "output_type": "stream",
     "text": [
      "Enter Channel number between 1 and 10: 2\n",
      "Channel playing is  2\n"
     ]
    }
   ],
   "source": [
    "tv.change_channel()"
   ]
  },
  {
   "cell_type": "code",
   "execution_count": 7,
   "id": "5ca95a85",
   "metadata": {},
   "outputs": [
    {
     "name": "stdout",
     "output_type": "stream",
     "text": [
      "Choose size(42,50,55,65,75): 10\n",
      "Size not available\n"
     ]
    }
   ],
   "source": [
    "tv.set_size()"
   ]
  },
  {
   "cell_type": "code",
   "execution_count": 20,
   "id": "b0bd32df",
   "metadata": {},
   "outputs": [
    {
     "name": "stdout",
     "output_type": "stream",
     "text": [
      "Increase or decrease volume from 1 to 100 : 50\n",
      "The volume is  50\n"
     ]
    }
   ],
   "source": [
    "tv.set_volume()"
   ]
  },
  {
   "cell_type": "code",
   "execution_count": 22,
   "id": "2e32d50c",
   "metadata": {},
   "outputs": [
    {
     "name": "stdout",
     "output_type": "stream",
     "text": [
      "choose TV setting from (Antenna, HDMI1, HDMI2, HDMI3): HDMI3\n",
      "The setting is now: HDMI3\n"
     ]
    }
   ],
   "source": [
    "tv.set_input()"
   ]
  },
  {
   "cell_type": "code",
   "execution_count": null,
   "id": "212af4f1",
   "metadata": {},
   "outputs": [],
   "source": []
  }
 ],
 "metadata": {
  "kernelspec": {
   "display_name": "Python 3 (ipykernel)",
   "language": "python",
   "name": "python3"
  },
  "language_info": {
   "codemirror_mode": {
    "name": "ipython",
    "version": 3
   },
   "file_extension": ".py",
   "mimetype": "text/x-python",
   "name": "python",
   "nbconvert_exporter": "python",
   "pygments_lexer": "ipython3",
   "version": "3.9.13"
  }
 },
 "nbformat": 4,
 "nbformat_minor": 5
}
